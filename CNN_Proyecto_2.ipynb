{
  "cells": [
    {
      "cell_type": "code",
      "execution_count": null,
      "metadata": {
        "id": "bzy8ig6GgjfR"
      },
      "outputs": [],
      "source": [
        "import tensorflow as tf\n",
        "import keras\n",
        "from keras.models import Sequential\n",
        "from keras.layers import Dense, Flatten, Conv2D, MaxPooling2D\n",
        "from keras.utils import to_categorical\n",
        "from keras.applications import MobileNetV2"
      ]
    },
    {
      "cell_type": "markdown",
      "metadata": {
        "id": "GyAXbzVQjXvw"
      },
      "source": [
        "#Obtener dataset"
      ]
    },
    {
      "cell_type": "code",
      "execution_count": null,
      "metadata": {
        "colab": {
          "base_uri": "https://localhost:8080/"
        },
        "id": "xBTo2yRCiZTg",
        "outputId": "34f712cd-3b15-48ec-d2d7-9343351a56ba"
      },
      "outputs": [
        {
          "output_type": "stream",
          "name": "stdout",
          "text": [
            "Downloading data from https://www.cs.toronto.edu/~kriz/cifar-10-python.tar.gz\n",
            "170498071/170498071 [==============================] - 6s 0us/step\n"
          ]
        }
      ],
      "source": [
        "# Cargar el conjunto de datos CIFAR-10\n",
        "(x_train, y_train), (x_test, y_test) = keras.datasets.cifar10.load_data()\n",
        "\n",
        "# Normalizar las imágenes\n",
        "x_train = x_train / 255.0\n",
        "x_test = x_test / 255.0\n",
        "\n",
        "# Convertir las etiquetas a one-hot encoding\n",
        "y_train = tf.keras.utils.to_categorical(y_train, num_classes=10)\n",
        "y_test = tf.keras.utils.to_categorical(y_test, num_classes=10)"
      ]
    },
    {
      "cell_type": "code",
      "execution_count": null,
      "metadata": {
        "id": "onz-x1XCjmDZ"
      },
      "outputs": [],
      "source": [
        "# Crear el modelo\n",
        "model = Sequential()\n",
        "model.add(Conv2D(32, (3, 3), activation='relu', padding='same', input_shape=(32, 32, 3)))\n",
        "model.add(Conv2D(32, (3, 3), activation='relu', padding='same'))\n",
        "model.add(MaxPooling2D(pool_size=(2, 2)))\n",
        "model.add(tf.keras.layers.Dropout(0.25))\n",
        "\n",
        "model.add(Conv2D(64, (3, 3), activation='relu', padding='same'))\n",
        "model.add(Conv2D(64, (3, 3), activation='relu', padding='same'))\n",
        "model.add(MaxPooling2D(pool_size=(2, 2)))\n",
        "model.add(tf.keras.layers.Dropout(0.25))\n",
        "\n",
        "model.add(Flatten())\n",
        "model.add(Dense(512, activation='relu'))\n",
        "model.add(tf.keras.layers.Dropout(0.5))\n",
        "model.add(Dense(10, activation='softmax'))\n",
        "\n"
      ]
    },
    {
      "cell_type": "code",
      "execution_count": null,
      "metadata": {
        "colab": {
          "base_uri": "https://localhost:8080/"
        },
        "id": "RrovCWaezz9m",
        "outputId": "7240fc4b-effa-482a-9909-24c5324340ed"
      },
      "outputs": [
        {
          "name": "stderr",
          "output_type": "stream",
          "text": [
            "WARNING:absl:`lr` is deprecated in Keras optimizer, please use `learning_rate` or use the legacy optimizer, e.g.,tf.keras.optimizers.legacy.Adam.\n"
          ]
        }
      ],
      "source": [
        "# Compilar el modelo\n",
        "model.compile(loss='categorical_crossentropy',\n",
        "              optimizer=tf.keras.optimizers.Adam(lr=0.001),\n",
        "              metrics=['accuracy'])"
      ]
    },
    {
      "cell_type": "code",
      "execution_count": null,
      "metadata": {
        "colab": {
          "base_uri": "https://localhost:8080/"
        },
        "id": "HAlhv6PUmGDd",
        "outputId": "51396aec-f8a4-46c8-ebb8-5137200d1b9b"
      },
      "outputs": [
        {
          "name": "stdout",
          "output_type": "stream",
          "text": [
            "Epoch 1/50\n",
            "391/391 [==============================] - 209s 531ms/step - loss: 1.5733 - accuracy: 0.4271 - val_loss: 1.1957 - val_accuracy: 0.5756\n",
            "Epoch 2/50\n",
            "391/391 [==============================] - 203s 519ms/step - loss: 1.1247 - accuracy: 0.5994 - val_loss: 0.9395 - val_accuracy: 0.6710\n",
            "Epoch 3/50\n",
            "391/391 [==============================] - 204s 521ms/step - loss: 0.9600 - accuracy: 0.6598 - val_loss: 0.8597 - val_accuracy: 0.6986\n",
            "Epoch 4/50\n",
            "391/391 [==============================] - 204s 521ms/step - loss: 0.8565 - accuracy: 0.6993 - val_loss: 0.8077 - val_accuracy: 0.7229\n",
            "Epoch 5/50\n",
            "391/391 [==============================] - 203s 518ms/step - loss: 0.7836 - accuracy: 0.7255 - val_loss: 0.7195 - val_accuracy: 0.7474\n",
            "Epoch 6/50\n",
            "391/391 [==============================] - 204s 521ms/step - loss: 0.7254 - accuracy: 0.7437 - val_loss: 0.7302 - val_accuracy: 0.7454\n",
            "Epoch 7/50\n",
            "391/391 [==============================] - 205s 526ms/step - loss: 0.6732 - accuracy: 0.7645 - val_loss: 0.6953 - val_accuracy: 0.7569\n",
            "Epoch 8/50\n",
            "391/391 [==============================] - 203s 519ms/step - loss: 0.6318 - accuracy: 0.7767 - val_loss: 0.6604 - val_accuracy: 0.7678\n",
            "Epoch 9/50\n",
            "391/391 [==============================] - 205s 524ms/step - loss: 0.5946 - accuracy: 0.7901 - val_loss: 0.6291 - val_accuracy: 0.7826\n",
            "Epoch 10/50\n",
            "391/391 [==============================] - 203s 520ms/step - loss: 0.5617 - accuracy: 0.8014 - val_loss: 0.6323 - val_accuracy: 0.7816\n",
            "Epoch 11/50\n",
            "391/391 [==============================] - 205s 526ms/step - loss: 0.5282 - accuracy: 0.8127 - val_loss: 0.6604 - val_accuracy: 0.7751\n",
            "Epoch 12/50\n",
            "391/391 [==============================] - 204s 521ms/step - loss: 0.5009 - accuracy: 0.8216 - val_loss: 0.6055 - val_accuracy: 0.7902\n",
            "Epoch 13/50\n",
            "391/391 [==============================] - 203s 520ms/step - loss: 0.4738 - accuracy: 0.8308 - val_loss: 0.6177 - val_accuracy: 0.7926\n",
            "Epoch 14/50\n",
            "391/391 [==============================] - 205s 525ms/step - loss: 0.4505 - accuracy: 0.8397 - val_loss: 0.6597 - val_accuracy: 0.7855\n",
            "Epoch 15/50\n",
            "391/391 [==============================] - 205s 525ms/step - loss: 0.4326 - accuracy: 0.8463 - val_loss: 0.6068 - val_accuracy: 0.7951\n",
            "Epoch 16/50\n",
            "391/391 [==============================] - 205s 524ms/step - loss: 0.4132 - accuracy: 0.8538 - val_loss: 0.6341 - val_accuracy: 0.7936\n",
            "Epoch 17/50\n",
            "391/391 [==============================] - 204s 521ms/step - loss: 0.3989 - accuracy: 0.8600 - val_loss: 0.6238 - val_accuracy: 0.7964\n",
            "Epoch 18/50\n",
            "391/391 [==============================] - 204s 522ms/step - loss: 0.3805 - accuracy: 0.8648 - val_loss: 0.6223 - val_accuracy: 0.7968\n",
            "Epoch 19/50\n",
            "391/391 [==============================] - 204s 521ms/step - loss: 0.3684 - accuracy: 0.8682 - val_loss: 0.6182 - val_accuracy: 0.8015\n",
            "Epoch 20/50\n",
            "391/391 [==============================] - 205s 523ms/step - loss: 0.3510 - accuracy: 0.8759 - val_loss: 0.6548 - val_accuracy: 0.7945\n",
            "Epoch 21/50\n",
            "391/391 [==============================] - 203s 519ms/step - loss: 0.3434 - accuracy: 0.8772 - val_loss: 0.6379 - val_accuracy: 0.7909\n",
            "Epoch 22/50\n",
            "391/391 [==============================] - 203s 519ms/step - loss: 0.3274 - accuracy: 0.8830 - val_loss: 0.6579 - val_accuracy: 0.8008\n",
            "Epoch 23/50\n",
            "391/391 [==============================] - 203s 521ms/step - loss: 0.3135 - accuracy: 0.8868 - val_loss: 0.6391 - val_accuracy: 0.8000\n",
            "Epoch 24/50\n",
            "391/391 [==============================] - 203s 519ms/step - loss: 0.3084 - accuracy: 0.8905 - val_loss: 0.6882 - val_accuracy: 0.7892\n",
            "Epoch 25/50\n",
            "391/391 [==============================] - 205s 524ms/step - loss: 0.3011 - accuracy: 0.8927 - val_loss: 0.6599 - val_accuracy: 0.7990\n",
            "Epoch 26/50\n",
            "391/391 [==============================] - 203s 519ms/step - loss: 0.2987 - accuracy: 0.8945 - val_loss: 0.6607 - val_accuracy: 0.7978\n",
            "Epoch 27/50\n",
            "391/391 [==============================] - 204s 521ms/step - loss: 0.2884 - accuracy: 0.8976 - val_loss: 0.6459 - val_accuracy: 0.7998\n",
            "Epoch 28/50\n",
            "391/391 [==============================] - 203s 519ms/step - loss: 0.2789 - accuracy: 0.9006 - val_loss: 0.6816 - val_accuracy: 0.7962\n",
            "Epoch 29/50\n",
            "391/391 [==============================] - 204s 522ms/step - loss: 0.2740 - accuracy: 0.9027 - val_loss: 0.6625 - val_accuracy: 0.8005\n",
            "Epoch 30/50\n",
            "391/391 [==============================] - 204s 521ms/step - loss: 0.2711 - accuracy: 0.9030 - val_loss: 0.7047 - val_accuracy: 0.7971\n",
            "Epoch 31/50\n",
            "391/391 [==============================] - 204s 522ms/step - loss: 0.2672 - accuracy: 0.9039 - val_loss: 0.6679 - val_accuracy: 0.8006\n",
            "Epoch 32/50\n",
            "391/391 [==============================] - 205s 524ms/step - loss: 0.2586 - accuracy: 0.9087 - val_loss: 0.6750 - val_accuracy: 0.8003\n",
            "Epoch 33/50\n",
            "391/391 [==============================] - 203s 519ms/step - loss: 0.2457 - accuracy: 0.9126 - val_loss: 0.7094 - val_accuracy: 0.8013\n",
            "Epoch 34/50\n",
            "391/391 [==============================] - 203s 519ms/step - loss: 0.2494 - accuracy: 0.9113 - val_loss: 0.6857 - val_accuracy: 0.8063\n",
            "Epoch 35/50\n",
            "391/391 [==============================] - 205s 525ms/step - loss: 0.2443 - accuracy: 0.9133 - val_loss: 0.6748 - val_accuracy: 0.7991\n",
            "Epoch 36/50\n",
            "391/391 [==============================] - 201s 513ms/step - loss: 0.2436 - accuracy: 0.9131 - val_loss: 0.6897 - val_accuracy: 0.8034\n",
            "Epoch 37/50\n",
            "391/391 [==============================] - 203s 519ms/step - loss: 0.2408 - accuracy: 0.9148 - val_loss: 0.6791 - val_accuracy: 0.8030\n",
            "Epoch 38/50\n",
            "391/391 [==============================] - 205s 524ms/step - loss: 0.2341 - accuracy: 0.9180 - val_loss: 0.7120 - val_accuracy: 0.8019\n",
            "Epoch 39/50\n",
            "391/391 [==============================] - 203s 520ms/step - loss: 0.2315 - accuracy: 0.9184 - val_loss: 0.7210 - val_accuracy: 0.8004\n",
            "Epoch 40/50\n",
            "391/391 [==============================] - 204s 522ms/step - loss: 0.2293 - accuracy: 0.9186 - val_loss: 0.7201 - val_accuracy: 0.8058\n",
            "Epoch 41/50\n",
            "391/391 [==============================] - 206s 526ms/step - loss: 0.2238 - accuracy: 0.9208 - val_loss: 0.7208 - val_accuracy: 0.8005\n",
            "Epoch 42/50\n",
            "391/391 [==============================] - 202s 517ms/step - loss: 0.2233 - accuracy: 0.9220 - val_loss: 0.7004 - val_accuracy: 0.8035\n",
            "Epoch 43/50\n",
            "391/391 [==============================] - 203s 520ms/step - loss: 0.2112 - accuracy: 0.9256 - val_loss: 0.7103 - val_accuracy: 0.8063\n",
            "Epoch 44/50\n",
            "391/391 [==============================] - 203s 518ms/step - loss: 0.2132 - accuracy: 0.9237 - val_loss: 0.7085 - val_accuracy: 0.8014\n",
            "Epoch 45/50\n",
            "391/391 [==============================] - 202s 518ms/step - loss: 0.2139 - accuracy: 0.9244 - val_loss: 0.7390 - val_accuracy: 0.8040\n",
            "Epoch 46/50\n",
            "391/391 [==============================] - 202s 517ms/step - loss: 0.2092 - accuracy: 0.9255 - val_loss: 0.7037 - val_accuracy: 0.8029\n",
            "Epoch 47/50\n",
            "391/391 [==============================] - 203s 520ms/step - loss: 0.2055 - accuracy: 0.9273 - val_loss: 0.7504 - val_accuracy: 0.7993\n",
            "Epoch 48/50\n",
            "391/391 [==============================] - 205s 525ms/step - loss: 0.2023 - accuracy: 0.9290 - val_loss: 0.7468 - val_accuracy: 0.8037\n",
            "Epoch 49/50\n",
            "391/391 [==============================] - 205s 524ms/step - loss: 0.2043 - accuracy: 0.9279 - val_loss: 0.7066 - val_accuracy: 0.8076\n",
            "Epoch 50/50\n",
            "391/391 [==============================] - 203s 520ms/step - loss: 0.2018 - accuracy: 0.9292 - val_loss: 0.7189 - val_accuracy: 0.7999\n"
          ]
        },
        {
          "data": {
            "text/plain": [
              "<keras.callbacks.History at 0x7f0d01783880>"
            ]
          },
          "execution_count": 24,
          "metadata": {},
          "output_type": "execute_result"
        }
      ],
      "source": [
        "# Entrenar el modelo\n",
        "batch_size = 128\n",
        "epochs = 50\n",
        "\n",
        "model.fit(x_train, y_train, batch_size=batch_size, epochs=epochs,\n",
        "          validation_data=(x_test, y_test), shuffle=True)"
      ]
    },
    {
      "cell_type": "code",
      "source": [
        "# Evaluar el modelo en el conjunto de pruebas\n",
        "score_model = model.evaluate(x_test, y_test, verbose=0)\n",
        "print('Test accuracy:', score_model[1])\n"
      ],
      "metadata": {
        "id": "_levsz_g0b7Q"
      },
      "execution_count": null,
      "outputs": []
    },
    {
      "cell_type": "markdown",
      "metadata": {
        "id": "YXRrn0kllv2-"
      },
      "source": [
        "#Base Model"
      ]
    },
    {
      "cell_type": "code",
      "execution_count": null,
      "metadata": {
        "colab": {
          "base_uri": "https://localhost:8080/"
        },
        "id": "TZlD8796vZDa",
        "outputId": "7539d9b5-4878-4471-bd3e-3c768e7f3bf4"
      },
      "outputs": [
        {
          "output_type": "stream",
          "name": "stderr",
          "text": [
            "WARNING:tensorflow:`input_shape` is undefined or non-square, or `rows` is not in [96, 128, 160, 192, 224]. Weights for input shape (224, 224) will be loaded as the default.\n"
          ]
        }
      ],
      "source": [
        "base_model = MobileNetV2(weights='imagenet', include_top=False, input_shape=(32, 32, 3))"
      ]
    },
    {
      "cell_type": "code",
      "source": [
        "# Congelar las capas del modelo base para que no se actualicen durante el entrenamiento\n",
        "for layer in base_model.layers:\n",
        "    layer.trainable = False"
      ],
      "metadata": {
        "id": "MHHR02NvuP28"
      },
      "execution_count": null,
      "outputs": []
    },
    {
      "cell_type": "markdown",
      "metadata": {
        "id": "CLOdB_Jioptw"
      },
      "source": [
        "#Transfer learning"
      ]
    },
    {
      "cell_type": "code",
      "execution_count": null,
      "metadata": {
        "id": "bScJ6Z2blyDw"
      },
      "outputs": [],
      "source": [
        "# Crear el modelo final utilizando el modelo base y agregar capas densas\n",
        "model = Sequential()\n",
        "model.add(Flatten(input_shape=base_model.output_shape[1:]))\n",
        "model.add(Dense(10, activation='softmax'))\n",
        "\n",
        "# Combinar el modelo base con el modelo final\n",
        "transfer_model = Sequential()\n",
        "transfer_model.add(base_model)\n",
        "transfer_model.add(model)\n",
        "\n",
        "# Compilar el modelo\n",
        "transfer_model.compile(optimizer='adam', loss='categorical_crossentropy', metrics=['accuracy'])"
      ]
    },
    {
      "cell_type": "code",
      "execution_count": null,
      "metadata": {
        "colab": {
          "base_uri": "https://localhost:8080/"
        },
        "id": "puaqKmZ-mBGg",
        "outputId": "7a2dcc75-8766-47bb-ba49-c824bb25136e"
      },
      "outputs": [
        {
          "output_type": "stream",
          "name": "stdout",
          "text": [
            "Epoch 1/10\n",
            "391/391 [==============================] - 9s 17ms/step - loss: 2.1398 - accuracy: 0.2547 - val_loss: 2.0416 - val_accuracy: 0.2839\n",
            "Epoch 2/10\n",
            "391/391 [==============================] - 5s 12ms/step - loss: 1.9976 - accuracy: 0.2970 - val_loss: 1.9732 - val_accuracy: 0.2971\n",
            "Epoch 3/10\n",
            "391/391 [==============================] - 6s 14ms/step - loss: 1.9490 - accuracy: 0.3073 - val_loss: 1.9435 - val_accuracy: 0.3029\n",
            "Epoch 4/10\n",
            "391/391 [==============================] - 5s 12ms/step - loss: 1.9246 - accuracy: 0.3120 - val_loss: 1.9275 - val_accuracy: 0.3072\n",
            "Epoch 5/10\n",
            "391/391 [==============================] - 5s 13ms/step - loss: 1.9099 - accuracy: 0.3152 - val_loss: 1.9175 - val_accuracy: 0.3089\n",
            "Epoch 6/10\n",
            "391/391 [==============================] - 5s 14ms/step - loss: 1.9002 - accuracy: 0.3177 - val_loss: 1.9106 - val_accuracy: 0.3092\n",
            "Epoch 7/10\n",
            "391/391 [==============================] - 5s 13ms/step - loss: 1.8931 - accuracy: 0.3187 - val_loss: 1.9062 - val_accuracy: 0.3116\n",
            "Epoch 8/10\n",
            "391/391 [==============================] - 5s 13ms/step - loss: 1.8879 - accuracy: 0.3206 - val_loss: 1.9030 - val_accuracy: 0.3152\n",
            "Epoch 9/10\n",
            "391/391 [==============================] - 5s 13ms/step - loss: 1.8839 - accuracy: 0.3226 - val_loss: 1.9005 - val_accuracy: 0.3141\n",
            "Epoch 10/10\n",
            "391/391 [==============================] - 6s 14ms/step - loss: 1.8808 - accuracy: 0.3225 - val_loss: 1.8987 - val_accuracy: 0.3156\n"
          ]
        },
        {
          "output_type": "execute_result",
          "data": {
            "text/plain": [
              "<keras.callbacks.History at 0x7f16005de440>"
            ]
          },
          "metadata": {},
          "execution_count": 16
        }
      ],
      "source": [
        "transfer_model.fit(x_train, y_train, epochs=10, batch_size=128, validation_data=(x_test, y_test))"
      ]
    },
    {
      "cell_type": "code",
      "source": [
        "# Evaluar el modelo en el conjunto de pruebas\n",
        "score_transfer = transfer_model.evaluate(x_test, y_test, verbose=0)\n",
        "print('Test accuracy:', score_transfer[1])"
      ],
      "metadata": {
        "colab": {
          "base_uri": "https://localhost:8080/"
        },
        "id": "KTLBjQYt0lkc",
        "outputId": "5d7fa182-88a5-42b6-c8eb-c9f7c4612d0e"
      },
      "execution_count": null,
      "outputs": [
        {
          "output_type": "stream",
          "name": "stdout",
          "text": [
            "Test accuracy: 0.3156000077724457\n"
          ]
        }
      ]
    },
    {
      "cell_type": "markdown",
      "metadata": {
        "id": "tm1j0rSpo6zC"
      },
      "source": [
        "#Fine Tuning"
      ]
    },
    {
      "cell_type": "code",
      "source": [
        "# Descongelar las ultimas 10 capas del modelo base para que se actualicen durante el entrenamiento\n",
        "for layer in base_model.layers[-10:]:\n",
        "    layer.trainable = True"
      ],
      "metadata": {
        "id": "QBs0Zv6PuVeu"
      },
      "execution_count": null,
      "outputs": []
    },
    {
      "cell_type": "code",
      "execution_count": null,
      "metadata": {
        "id": "hucrz4QQvk1i"
      },
      "outputs": [],
      "source": [
        "# Crear el modelo final utilizando el modelo base y agregar capas densas\n",
        "model_tuning = Sequential()\n",
        "\n",
        "\n",
        "model_tuning.add(Conv2D(1280, (5, 5), activation='relu', padding='same'))\n",
        "model_tuning.add(Conv2D(1280, (5, 5), activation='relu', padding='same'))\n",
        "\n",
        "model_tuning.add(Flatten(input_shape=base_model.output_shape[1:]))\n",
        "\n",
        "model_tuning.add(Dense(256, activation='relu'))\n",
        "model.add(tf.keras.layers.Dropout(0.25))\n",
        "model_tuning.add(Dense(256, activation='relu'))\n",
        "model_tuning.add(Dense(256, activation='relu'))\n",
        "\n",
        "model_tuning.add(Dense(10, activation='softmax'))\n",
        "\n",
        "# Combinar el modelo base con el modelo final\n",
        "final_model = Sequential()\n",
        "final_model.add(base_model)\n",
        "final_model.add(model_tuning)\n",
        "\n",
        "# Compilar el modelo\n",
        "final_model.compile(optimizer='adam', loss='categorical_crossentropy', metrics=['accuracy'])"
      ]
    },
    {
      "cell_type": "code",
      "execution_count": null,
      "metadata": {
        "colab": {
          "base_uri": "https://localhost:8080/"
        },
        "id": "DEM0ilRdvqb0",
        "outputId": "59f801ab-dff1-471a-e527-81b9c7ce6985"
      },
      "outputs": [
        {
          "output_type": "stream",
          "name": "stdout",
          "text": [
            "Epoch 1/10\n",
            "391/391 [==============================] - 96s 229ms/step - loss: 1.4785 - accuracy: 0.4829 - val_loss: 2.5325 - val_accuracy: 0.2119\n",
            "Epoch 2/10\n",
            "391/391 [==============================] - 90s 229ms/step - loss: 1.2480 - accuracy: 0.5697 - val_loss: 1.9279 - val_accuracy: 0.3282\n",
            "Epoch 3/10\n",
            "391/391 [==============================] - 90s 231ms/step - loss: 1.1552 - accuracy: 0.6005 - val_loss: 2.4417 - val_accuracy: 0.2318\n",
            "Epoch 4/10\n",
            "391/391 [==============================] - 91s 233ms/step - loss: 1.0718 - accuracy: 0.6257 - val_loss: 1.9739 - val_accuracy: 0.3331\n",
            "Epoch 5/10\n",
            "391/391 [==============================] - 91s 233ms/step - loss: 1.0023 - accuracy: 0.6485 - val_loss: 3.7223 - val_accuracy: 0.2423\n",
            "Epoch 6/10\n",
            "391/391 [==============================] - 91s 234ms/step - loss: 0.9295 - accuracy: 0.6704 - val_loss: 3.5296 - val_accuracy: 0.2332\n",
            "Epoch 7/10\n",
            "391/391 [==============================] - 92s 235ms/step - loss: 0.8535 - accuracy: 0.6962 - val_loss: 2.4354 - val_accuracy: 0.3367\n",
            "Epoch 8/10\n",
            "391/391 [==============================] - 92s 235ms/step - loss: 0.7862 - accuracy: 0.7196 - val_loss: 2.0190 - val_accuracy: 0.4181\n",
            "Epoch 9/10\n",
            "391/391 [==============================] - 92s 235ms/step - loss: 0.7068 - accuracy: 0.7436 - val_loss: 2.6296 - val_accuracy: 0.3727\n",
            "Epoch 10/10\n",
            "391/391 [==============================] - 92s 235ms/step - loss: 0.6380 - accuracy: 0.7695 - val_loss: 2.0280 - val_accuracy: 0.4522\n"
          ]
        },
        {
          "output_type": "execute_result",
          "data": {
            "text/plain": [
              "<keras.callbacks.History at 0x7f15f845f850>"
            ]
          },
          "metadata": {},
          "execution_count": 20
        }
      ],
      "source": [
        "# Entrenar el modelo\n",
        "final_model.fit(x_train, y_train, epochs=10, batch_size=128, validation_data=(x_test, y_test))"
      ]
    },
    {
      "cell_type": "code",
      "source": [
        "# Evaluar el modelo en el conjunto de pruebas\n",
        "score_tuning = final_model.evaluate(x_test, y_test, verbose=0)\n",
        "print('Test accuracy:', score_tuning[1])"
      ],
      "metadata": {
        "colab": {
          "base_uri": "https://localhost:8080/"
        },
        "id": "8upEXLxW02B4",
        "outputId": "8c3086c3-742b-45b6-995e-6818c568b1c2"
      },
      "execution_count": null,
      "outputs": [
        {
          "output_type": "stream",
          "name": "stdout",
          "text": [
            "Test accuracy: 0.4438999891281128\n"
          ]
        }
      ]
    }
  ],
  "metadata": {
    "colab": {
      "provenance": [],
      "gpuType": "T4"
    },
    "kernelspec": {
      "display_name": "Python 3",
      "name": "python3"
    },
    "language_info": {
      "name": "python"
    },
    "accelerator": "GPU"
  },
  "nbformat": 4,
  "nbformat_minor": 0
}